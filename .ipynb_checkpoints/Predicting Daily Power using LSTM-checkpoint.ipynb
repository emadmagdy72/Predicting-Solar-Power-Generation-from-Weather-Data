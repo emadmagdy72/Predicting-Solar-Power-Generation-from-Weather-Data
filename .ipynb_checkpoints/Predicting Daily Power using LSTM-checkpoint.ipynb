{
 "cells": [
  {
   "cell_type": "markdown",
   "id": "9b5aea73",
   "metadata": {},
   "source": [
    "# Predicting Daily Power using LSTM"
   ]
  },
  {
   "cell_type": "markdown",
   "id": "e89c0edf",
   "metadata": {},
   "source": [
    "## Import Libraries"
   ]
  },
  {
   "cell_type": "code",
   "execution_count": 1,
   "id": "f3dea1c1",
   "metadata": {},
   "outputs": [],
   "source": [
    "import tensorflow as tf\n",
    "import pandas as pd\n",
    "import numpy as np\n",
    "import seaborn as sns\n",
    "import matplotlib.pyplot as plt\n",
    "import datetime\n",
    "import warnings\n",
    "from sklearn.preprocessing import OrdinalEncoder\n",
    "from sklearn.impute import SimpleImputer\n",
    "from sklearn.impute import SimpleImputer\n",
    "from sklearn.preprocessing import MinMaxScaler\n",
    "\n",
    "warnings.simplefilter(\"ignore\")"
   ]
  },
  {
   "cell_type": "code",
   "execution_count": 2,
   "id": "8940f14c",
   "metadata": {},
   "outputs": [
    {
     "data": {
      "text/html": [
       "<div>\n",
       "<style scoped>\n",
       "    .dataframe tbody tr th:only-of-type {\n",
       "        vertical-align: middle;\n",
       "    }\n",
       "\n",
       "    .dataframe tbody tr th {\n",
       "        vertical-align: top;\n",
       "    }\n",
       "\n",
       "    .dataframe thead th {\n",
       "        text-align: right;\n",
       "    }\n",
       "</style>\n",
       "<table border=\"1\" class=\"dataframe\">\n",
       "  <thead>\n",
       "    <tr style=\"text-align: right;\">\n",
       "      <th></th>\n",
       "      <th>date</th>\n",
       "      <th>temp</th>\n",
       "      <th>weather</th>\n",
       "      <th>wind</th>\n",
       "      <th>humidity</th>\n",
       "      <th>day_power</th>\n",
       "    </tr>\n",
       "  </thead>\n",
       "  <tbody>\n",
       "    <tr>\n",
       "      <th>0</th>\n",
       "      <td>2012-01-01</td>\n",
       "      <td>12.333333</td>\n",
       "      <td>Cloudy</td>\n",
       "      <td>21.333333</td>\n",
       "      <td>89.333333</td>\n",
       "      <td>0.8</td>\n",
       "    </tr>\n",
       "    <tr>\n",
       "      <th>1</th>\n",
       "      <td>2012-01-02</td>\n",
       "      <td>7.787234</td>\n",
       "      <td>Scattered clouds</td>\n",
       "      <td>17.212766</td>\n",
       "      <td>81.425532</td>\n",
       "      <td>2.9</td>\n",
       "    </tr>\n",
       "    <tr>\n",
       "      <th>2</th>\n",
       "      <td>2012-01-03</td>\n",
       "      <td>8.208333</td>\n",
       "      <td>Fog</td>\n",
       "      <td>32.354167</td>\n",
       "      <td>78.229167</td>\n",
       "      <td>0.8</td>\n",
       "    </tr>\n",
       "    <tr>\n",
       "      <th>3</th>\n",
       "      <td>2012-01-04</td>\n",
       "      <td>7.354167</td>\n",
       "      <td>Scattered clouds</td>\n",
       "      <td>26.375000</td>\n",
       "      <td>71.041667</td>\n",
       "      <td>2.7</td>\n",
       "    </tr>\n",
       "    <tr>\n",
       "      <th>4</th>\n",
       "      <td>2012-01-05</td>\n",
       "      <td>8.292683</td>\n",
       "      <td>Scattered clouds</td>\n",
       "      <td>39.170732</td>\n",
       "      <td>77.804878</td>\n",
       "      <td>1.6</td>\n",
       "    </tr>\n",
       "  </tbody>\n",
       "</table>\n",
       "</div>"
      ],
      "text/plain": [
       "         date       temp           weather       wind   humidity  day_power\n",
       "0  2012-01-01  12.333333            Cloudy  21.333333  89.333333        0.8\n",
       "1  2012-01-02   7.787234  Scattered clouds  17.212766  81.425532        2.9\n",
       "2  2012-01-03   8.208333               Fog  32.354167  78.229167        0.8\n",
       "3  2012-01-04   7.354167  Scattered clouds  26.375000  71.041667        2.7\n",
       "4  2012-01-05   8.292683  Scattered clouds  39.170732  77.804878        1.6"
      ]
     },
     "execution_count": 2,
     "metadata": {},
     "output_type": "execute_result"
    }
   ],
   "source": [
    "data = pd.read_csv('datasets/power_per_day.csv')\n",
    "data.head()"
   ]
  },
  {
   "cell_type": "code",
   "execution_count": 3,
   "id": "da5cde5d",
   "metadata": {},
   "outputs": [
    {
     "data": {
      "text/html": [
       "<div>\n",
       "<style scoped>\n",
       "    .dataframe tbody tr th:only-of-type {\n",
       "        vertical-align: middle;\n",
       "    }\n",
       "\n",
       "    .dataframe tbody tr th {\n",
       "        vertical-align: top;\n",
       "    }\n",
       "\n",
       "    .dataframe thead th {\n",
       "        text-align: right;\n",
       "    }\n",
       "</style>\n",
       "<table border=\"1\" class=\"dataframe\">\n",
       "  <thead>\n",
       "    <tr style=\"text-align: right;\">\n",
       "      <th></th>\n",
       "      <th>date</th>\n",
       "      <th>temp</th>\n",
       "      <th>weather</th>\n",
       "      <th>wind</th>\n",
       "      <th>humidity</th>\n",
       "      <th>day_power</th>\n",
       "    </tr>\n",
       "  </thead>\n",
       "  <tbody>\n",
       "    <tr>\n",
       "      <th>2686</th>\n",
       "      <td>2019-11-15</td>\n",
       "      <td>4.125000</td>\n",
       "      <td>Scattered clouds</td>\n",
       "      <td>11.854167</td>\n",
       "      <td>85.375000</td>\n",
       "      <td>2.0</td>\n",
       "    </tr>\n",
       "    <tr>\n",
       "      <th>2687</th>\n",
       "      <td>2019-11-16</td>\n",
       "      <td>3.755556</td>\n",
       "      <td>Scattered clouds</td>\n",
       "      <td>6.622222</td>\n",
       "      <td>83.777778</td>\n",
       "      <td>4.0</td>\n",
       "    </tr>\n",
       "    <tr>\n",
       "      <th>2688</th>\n",
       "      <td>2019-11-17</td>\n",
       "      <td>3.916667</td>\n",
       "      <td>Sunny</td>\n",
       "      <td>6.562500</td>\n",
       "      <td>86.895833</td>\n",
       "      <td>3.0</td>\n",
       "    </tr>\n",
       "    <tr>\n",
       "      <th>2689</th>\n",
       "      <td>2019-11-18</td>\n",
       "      <td>6.333333</td>\n",
       "      <td>Fog</td>\n",
       "      <td>12.625000</td>\n",
       "      <td>83.604167</td>\n",
       "      <td>0.0</td>\n",
       "    </tr>\n",
       "    <tr>\n",
       "      <th>2690</th>\n",
       "      <td>2019-11-19</td>\n",
       "      <td>4.958333</td>\n",
       "      <td>Passing clouds</td>\n",
       "      <td>10.708333</td>\n",
       "      <td>78.354167</td>\n",
       "      <td>6.0</td>\n",
       "    </tr>\n",
       "  </tbody>\n",
       "</table>\n",
       "</div>"
      ],
      "text/plain": [
       "            date      temp           weather       wind   humidity  day_power\n",
       "2686  2019-11-15  4.125000  Scattered clouds  11.854167  85.375000        2.0\n",
       "2687  2019-11-16  3.755556  Scattered clouds   6.622222  83.777778        4.0\n",
       "2688  2019-11-17  3.916667             Sunny   6.562500  86.895833        3.0\n",
       "2689  2019-11-18  6.333333               Fog  12.625000  83.604167        0.0\n",
       "2690  2019-11-19  4.958333    Passing clouds  10.708333  78.354167        6.0"
      ]
     },
     "execution_count": 3,
     "metadata": {},
     "output_type": "execute_result"
    }
   ],
   "source": [
    "data.tail()"
   ]
  },
  {
   "cell_type": "code",
   "execution_count": 4,
   "id": "ad8e7e92",
   "metadata": {},
   "outputs": [],
   "source": [
    "data.date = pd.to_datetime(data.date)"
   ]
  },
  {
   "cell_type": "code",
   "execution_count": 5,
   "id": "83d329fa",
   "metadata": {},
   "outputs": [
    {
     "name": "stdout",
     "output_type": "stream",
     "text": [
      "<class 'pandas.core.frame.DataFrame'>\n",
      "RangeIndex: 2691 entries, 0 to 2690\n",
      "Data columns (total 6 columns):\n",
      " #   Column     Non-Null Count  Dtype         \n",
      "---  ------     --------------  -----         \n",
      " 0   date       2691 non-null   datetime64[ns]\n",
      " 1   temp       2686 non-null   float64       \n",
      " 2   weather    2691 non-null   object        \n",
      " 3   wind       2679 non-null   float64       \n",
      " 4   humidity   2668 non-null   float64       \n",
      " 5   day_power  2691 non-null   float64       \n",
      "dtypes: datetime64[ns](1), float64(4), object(1)\n",
      "memory usage: 126.3+ KB\n"
     ]
    }
   ],
   "source": [
    "data.info()"
   ]
  },
  {
   "cell_type": "code",
   "execution_count": 6,
   "id": "d9584d80",
   "metadata": {},
   "outputs": [
    {
     "data": {
      "text/plain": [
       "(2691, 6)"
      ]
     },
     "execution_count": 6,
     "metadata": {},
     "output_type": "execute_result"
    }
   ],
   "source": [
    "data.shape"
   ]
  },
  {
   "cell_type": "code",
   "execution_count": 7,
   "id": "d4383d51",
   "metadata": {},
   "outputs": [],
   "source": [
    "data.set_index('date',inplace=True)"
   ]
  },
  {
   "cell_type": "code",
   "execution_count": 8,
   "id": "34b181f2",
   "metadata": {},
   "outputs": [],
   "source": [
    "df = data.copy()\n",
    "\n",
    "train_set = df[:'31-12-2018']\n",
    "test_set = df['01-01-2019':]"
   ]
  },
  {
   "cell_type": "code",
   "execution_count": 9,
   "id": "15bfe923",
   "metadata": {},
   "outputs": [
    {
     "data": {
      "text/html": [
       "<div>\n",
       "<style scoped>\n",
       "    .dataframe tbody tr th:only-of-type {\n",
       "        vertical-align: middle;\n",
       "    }\n",
       "\n",
       "    .dataframe tbody tr th {\n",
       "        vertical-align: top;\n",
       "    }\n",
       "\n",
       "    .dataframe thead th {\n",
       "        text-align: right;\n",
       "    }\n",
       "</style>\n",
       "<table border=\"1\" class=\"dataframe\">\n",
       "  <thead>\n",
       "    <tr style=\"text-align: right;\">\n",
       "      <th></th>\n",
       "      <th>temp</th>\n",
       "      <th>weather</th>\n",
       "      <th>wind</th>\n",
       "      <th>humidity</th>\n",
       "      <th>day_power</th>\n",
       "    </tr>\n",
       "    <tr>\n",
       "      <th>date</th>\n",
       "      <th></th>\n",
       "      <th></th>\n",
       "      <th></th>\n",
       "      <th></th>\n",
       "      <th></th>\n",
       "    </tr>\n",
       "  </thead>\n",
       "  <tbody>\n",
       "    <tr>\n",
       "      <th>2019-11-15</th>\n",
       "      <td>4.125000</td>\n",
       "      <td>Scattered clouds</td>\n",
       "      <td>11.854167</td>\n",
       "      <td>85.375000</td>\n",
       "      <td>2.0</td>\n",
       "    </tr>\n",
       "    <tr>\n",
       "      <th>2019-11-16</th>\n",
       "      <td>3.755556</td>\n",
       "      <td>Scattered clouds</td>\n",
       "      <td>6.622222</td>\n",
       "      <td>83.777778</td>\n",
       "      <td>4.0</td>\n",
       "    </tr>\n",
       "    <tr>\n",
       "      <th>2019-11-17</th>\n",
       "      <td>3.916667</td>\n",
       "      <td>Sunny</td>\n",
       "      <td>6.562500</td>\n",
       "      <td>86.895833</td>\n",
       "      <td>3.0</td>\n",
       "    </tr>\n",
       "    <tr>\n",
       "      <th>2019-11-18</th>\n",
       "      <td>6.333333</td>\n",
       "      <td>Fog</td>\n",
       "      <td>12.625000</td>\n",
       "      <td>83.604167</td>\n",
       "      <td>0.0</td>\n",
       "    </tr>\n",
       "    <tr>\n",
       "      <th>2019-11-19</th>\n",
       "      <td>4.958333</td>\n",
       "      <td>Passing clouds</td>\n",
       "      <td>10.708333</td>\n",
       "      <td>78.354167</td>\n",
       "      <td>6.0</td>\n",
       "    </tr>\n",
       "  </tbody>\n",
       "</table>\n",
       "</div>"
      ],
      "text/plain": [
       "                temp           weather       wind   humidity  day_power\n",
       "date                                                                   \n",
       "2019-11-15  4.125000  Scattered clouds  11.854167  85.375000        2.0\n",
       "2019-11-16  3.755556  Scattered clouds   6.622222  83.777778        4.0\n",
       "2019-11-17  3.916667             Sunny   6.562500  86.895833        3.0\n",
       "2019-11-18  6.333333               Fog  12.625000  83.604167        0.0\n",
       "2019-11-19  4.958333    Passing clouds  10.708333  78.354167        6.0"
      ]
     },
     "execution_count": 9,
     "metadata": {},
     "output_type": "execute_result"
    }
   ],
   "source": [
    "data.tail()"
   ]
  },
  {
   "cell_type": "code",
   "execution_count": null,
   "id": "3156a4b6",
   "metadata": {},
   "outputs": [],
   "source": []
  },
  {
   "cell_type": "code",
   "execution_count": 10,
   "id": "ff5b9f8e",
   "metadata": {},
   "outputs": [
    {
     "data": {
      "text/plain": [
       "(2379, 5)"
      ]
     },
     "execution_count": 10,
     "metadata": {},
     "output_type": "execute_result"
    }
   ],
   "source": [
    "train_set.shape"
   ]
  },
  {
   "cell_type": "code",
   "execution_count": 11,
   "id": "1897a94c",
   "metadata": {},
   "outputs": [
    {
     "data": {
      "text/plain": [
       "(312, 5)"
      ]
     },
     "execution_count": 11,
     "metadata": {},
     "output_type": "execute_result"
    }
   ],
   "source": [
    "test_set.shape"
   ]
  },
  {
   "cell_type": "markdown",
   "id": "6f186cf8",
   "metadata": {},
   "source": [
    "## Encoded Cat_cols"
   ]
  },
  {
   "cell_type": "code",
   "execution_count": 12,
   "id": "65663613",
   "metadata": {},
   "outputs": [],
   "source": [
    "ord_enc = OrdinalEncoder()\n",
    "train_set[['weather']] = ord_enc.fit_transform(train_set[['weather']])\n",
    "test_set[['weather']] = ord_enc.transform(test_set[['weather']])"
   ]
  },
  {
   "cell_type": "code",
   "execution_count": 13,
   "id": "0d8817c7",
   "metadata": {},
   "outputs": [],
   "source": [
    "imputer = SimpleImputer(strategy='median')\n",
    "train_set[['temp', 'wind', 'humidity']] = imputer.fit_transform(train_set[['temp', 'wind', 'humidity']])\n",
    "test_set[['temp', 'wind', 'humidity']] = imputer.transform(test_set[['temp', 'wind', 'humidity']])"
   ]
  },
  {
   "cell_type": "code",
   "execution_count": null,
   "id": "5870cf7b",
   "metadata": {},
   "outputs": [],
   "source": []
  },
  {
   "cell_type": "code",
   "execution_count": 14,
   "id": "8cf25a74",
   "metadata": {},
   "outputs": [],
   "source": [
    "scale_featrues = MinMaxScaler()\n",
    "scale_target = MinMaxScaler()\n",
    "\n",
    "train_set[['temp', 'wind', 'humidity']] = scale_featrues.fit_transform(train_set[['temp', 'wind', 'humidity']])\n",
    "test_set[['temp', 'wind', 'humidity']] = scale_featrues.transform(test_set[['temp', 'wind', 'humidity']])\n",
    "\n",
    "train_set[['day_power']] = scale_target.fit_transform(train_set[['day_power']])\n",
    "test_set[['day_power']] = scale_target.transform(test_set[['day_power']])\n"
   ]
  },
  {
   "cell_type": "code",
   "execution_count": 15,
   "id": "3f70da9a",
   "metadata": {},
   "outputs": [
    {
     "data": {
      "text/plain": [
       "(2379, 5)"
      ]
     },
     "execution_count": 15,
     "metadata": {},
     "output_type": "execute_result"
    }
   ],
   "source": [
    "train_set.shape"
   ]
  },
  {
   "cell_type": "code",
   "execution_count": 16,
   "id": "4154105b",
   "metadata": {},
   "outputs": [
    {
     "data": {
      "text/plain": [
       "(312, 5)"
      ]
     },
     "execution_count": 16,
     "metadata": {},
     "output_type": "execute_result"
    }
   ],
   "source": [
    "test_set.shape"
   ]
  },
  {
   "cell_type": "markdown",
   "id": "1e7a8e2b",
   "metadata": {},
   "source": [
    "## Create Sequence"
   ]
  },
  {
   "cell_type": "code",
   "execution_count": 17,
   "id": "912302aa",
   "metadata": {},
   "outputs": [
    {
     "name": "stdout",
     "output_type": "stream",
     "text": [
      "(2372, 7, 5) (2372,)\n"
     ]
    }
   ],
   "source": [
    "def create_sequences(data, seq_length):\n",
    "    X = []\n",
    "    y = []\n",
    "    for i in range(seq_length, len(data)):\n",
    "        X.append(data[i-seq_length:i])\n",
    "        y.append(data.iloc[i,-1])\n",
    "    return np.array(X), np.array(y)\n",
    "\n",
    "seq_length = 7\n",
    "X_train, y_train = create_sequences(train_set, seq_length)\n",
    "X_test, y_test = create_sequences(test_set, seq_length)\n",
    "\n",
    "print(X_train.shape,y_train.shape)"
   ]
  },
  {
   "cell_type": "markdown",
   "id": "010619eb",
   "metadata": {},
   "source": [
    "## Define LSTM model"
   ]
  },
  {
   "cell_type": "code",
   "execution_count": 18,
   "id": "a7c0c5ae",
   "metadata": {},
   "outputs": [],
   "source": [
    "from keras.models import Sequential\n",
    "from keras.layers import LSTM, Dense, Dropout"
   ]
  },
  {
   "cell_type": "code",
   "execution_count": null,
   "id": "08090ca0",
   "metadata": {},
   "outputs": [
    {
     "name": "stdout",
     "output_type": "stream",
     "text": [
      "Epoch 1/50\n",
      "134/134 [==============================] - 4s 13ms/step - loss: 0.0361 - val_loss: 0.0336\n",
      "Epoch 2/50\n",
      "134/134 [==============================] - 1s 8ms/step - loss: 0.0242 - val_loss: 0.0299\n",
      "Epoch 3/50\n",
      "134/134 [==============================] - 1s 8ms/step - loss: 0.0240 - val_loss: 0.0274\n",
      "Epoch 4/50\n",
      "134/134 [==============================] - 1s 8ms/step - loss: 0.0232 - val_loss: 0.0261\n",
      "Epoch 5/50\n",
      "134/134 [==============================] - 1s 9ms/step - loss: 0.0221 - val_loss: 0.0261\n",
      "Epoch 6/50\n",
      "134/134 [==============================] - 1s 8ms/step - loss: 0.0217 - val_loss: 0.0269\n",
      "Epoch 7/50\n",
      "134/134 [==============================] - 1s 8ms/step - loss: 0.0213 - val_loss: 0.0300\n",
      "Epoch 8/50\n",
      "134/134 [==============================] - 1s 8ms/step - loss: 0.0222 - val_loss: 0.0259\n",
      "Epoch 9/50\n",
      "134/134 [==============================] - 1s 9ms/step - loss: 0.0212 - val_loss: 0.0258\n",
      "Epoch 10/50\n",
      "134/134 [==============================] - 1s 8ms/step - loss: 0.0207 - val_loss: 0.0264\n",
      "Epoch 11/50\n",
      "134/134 [==============================] - 1s 8ms/step - loss: 0.0216 - val_loss: 0.0258\n",
      "Epoch 12/50\n",
      "134/134 [==============================] - 1s 8ms/step - loss: 0.0209 - val_loss: 0.0254\n",
      "Epoch 13/50\n",
      "134/134 [==============================] - 1s 9ms/step - loss: 0.0205 - val_loss: 0.0257\n",
      "Epoch 14/50\n",
      "134/134 [==============================] - 1s 8ms/step - loss: 0.0215 - val_loss: 0.0255\n",
      "Epoch 15/50\n",
      "134/134 [==============================] - 1s 8ms/step - loss: 0.0209 - val_loss: 0.0257\n",
      "Epoch 16/50\n",
      "134/134 [==============================] - 1s 8ms/step - loss: 0.0206 - val_loss: 0.0252\n",
      "Epoch 17/50\n",
      "134/134 [==============================] - 1s 8ms/step - loss: 0.0209 - val_loss: 0.0259\n",
      "Epoch 18/50\n",
      "134/134 [==============================] - 1s 8ms/step - loss: 0.0207 - val_loss: 0.0251\n",
      "Epoch 19/50\n",
      " 43/134 [========>.....................] - ETA: 0s - loss: 0.0207"
     ]
    }
   ],
   "source": [
    "model = Sequential()\n",
    "model.add(LSTM(units=128,return_sequences=True, input_shape=(seq_length, 5)))\n",
    "model.add(LSTM(units=64))\n",
    "model.add(Dense(units=1))\n",
    "\n",
    "# compile the model\n",
    "model.compile(optimizer='adam', loss='mean_squared_error')\n",
    "\n",
    "# train the model\n",
    "history = model.fit(X_train, y_train, epochs=50, batch_size=16, validation_split=0.1)"
   ]
  },
  {
   "cell_type": "code",
   "execution_count": null,
   "id": "e0231526",
   "metadata": {},
   "outputs": [],
   "source": []
  },
  {
   "cell_type": "markdown",
   "id": "09e03339",
   "metadata": {},
   "source": [
    "# make predictions on test data"
   ]
  },
  {
   "cell_type": "code",
   "execution_count": null,
   "id": "5510892a",
   "metadata": {},
   "outputs": [],
   "source": [
    "train_preds = model.predict(X_train)\n",
    "train_preds = scale_target.inverse_transform(train_preds)\n",
    "y_train = scale_target.inverse_transform(y_train.reshape(-1,1))\n",
    "\n",
    "test_preds = model.predict(X_test)\n",
    "test_preds = scale_target.inverse_transform(test_preds)\n",
    "y_test = scale_target.inverse_transform(y_test.reshape(-1,1))\n"
   ]
  },
  {
   "cell_type": "code",
   "execution_count": null,
   "id": "af61750c",
   "metadata": {},
   "outputs": [],
   "source": []
  },
  {
   "cell_type": "markdown",
   "id": "59a1437f",
   "metadata": {},
   "source": [
    "## Evaluation the model "
   ]
  },
  {
   "cell_type": "code",
   "execution_count": null,
   "id": "d799c8c5",
   "metadata": {},
   "outputs": [],
   "source": [
    "train_mse = np.mean(np.square(train_preds - y_train))\n",
    "test_mse = np.mean(np.square(test_preds - y_test))\n",
    "print('Training MSE:', train_mse)\n",
    "print('Testing MSE:', test_mse)\n"
   ]
  },
  {
   "cell_type": "markdown",
   "id": "397e70da",
   "metadata": {},
   "source": [
    "## Plot training and validation loss over epochs"
   ]
  },
  {
   "cell_type": "code",
   "execution_count": null,
   "id": "76653024",
   "metadata": {},
   "outputs": [],
   "source": [
    "plt.plot(history.history['loss'], label='train')\n",
    "plt.plot(history.history['val_loss'], label='validation')\n",
    "plt.title('Training and Validation Loss')\n",
    "plt.xlabel('Epoch')\n",
    "plt.ylabel('Loss')\n",
    "plt.legend()\n",
    "plt.show()"
   ]
  },
  {
   "cell_type": "markdown",
   "id": "d035c3c7",
   "metadata": {},
   "source": [
    "## Plot actual vs predicted values on training set"
   ]
  },
  {
   "cell_type": "code",
   "execution_count": null,
   "id": "6af645a8",
   "metadata": {},
   "outputs": [],
   "source": [
    "df_training = pd.DataFrame({'Actual':y_train.flatten(),\n",
    "                           'Predicted':train_preds.flatten()})"
   ]
  },
  {
   "cell_type": "code",
   "execution_count": null,
   "id": "49170a97",
   "metadata": {},
   "outputs": [],
   "source": [
    "import plotly.express as px \n",
    "\n",
    "fig = px.line(df_training, y=['Actual', 'Predicted'],\n",
    "              title='Actual vs Predicted Values (Training Set)',\n",
    "             color_discrete_sequence=['#002147','#FF4F00'])\n",
    "fig.show()"
   ]
  },
  {
   "cell_type": "markdown",
   "id": "3532c24e",
   "metadata": {},
   "source": [
    "## Plot actual vs predicted values on test set"
   ]
  },
  {
   "cell_type": "code",
   "execution_count": null,
   "id": "c91ca444",
   "metadata": {},
   "outputs": [],
   "source": [
    "df_testing = pd.DataFrame({'Actual':y_test.flatten(),\n",
    "                           'Predicted':test_preds.flatten()})"
   ]
  },
  {
   "cell_type": "code",
   "execution_count": null,
   "id": "7e16ea89",
   "metadata": {},
   "outputs": [],
   "source": [
    "fig = px.line(df_testing, y=['Actual', 'Predicted'],\n",
    "              title='Actual vs Predicted Values (Test Set)',\n",
    "             color_discrete_sequence=['#002147','#FF4F00'],)\n",
    "fig.show()"
   ]
  },
  {
   "cell_type": "code",
   "execution_count": null,
   "id": "25c77292",
   "metadata": {},
   "outputs": [],
   "source": []
  },
  {
   "cell_type": "code",
   "execution_count": null,
   "id": "dc94b186",
   "metadata": {},
   "outputs": [],
   "source": [
    "train_set.head()"
   ]
  },
  {
   "cell_type": "code",
   "execution_count": null,
   "id": "41968fbd",
   "metadata": {},
   "outputs": [],
   "source": [
    "test_set.head()"
   ]
  },
  {
   "cell_type": "code",
   "execution_count": null,
   "id": "6b38de9b",
   "metadata": {},
   "outputs": [],
   "source": [
    "len(test_set)"
   ]
  },
  {
   "cell_type": "code",
   "execution_count": null,
   "id": "e97694f9",
   "metadata": {},
   "outputs": [],
   "source": [
    "train_dates = data.index"
   ]
  },
  {
   "cell_type": "code",
   "execution_count": null,
   "id": "497f142e",
   "metadata": {},
   "outputs": [],
   "source": [
    "n_future = 312\n",
    "forcast_period_dates = pd.date_range(list(train_dates)[-1],periods=n_future, freq='1d').tolist()"
   ]
  },
  {
   "cell_type": "code",
   "execution_count": null,
   "id": "fe03bb33",
   "metadata": {},
   "outputs": [],
   "source": [
    "forcast = model.predict(X_train[-n_future:])"
   ]
  },
  {
   "cell_type": "code",
   "execution_count": null,
   "id": "b128b07d",
   "metadata": {},
   "outputs": [],
   "source": [
    "forcast_inverse = scale_target.inverse_transform(forcast.reshape(-1,1))"
   ]
  },
  {
   "cell_type": "code",
   "execution_count": null,
   "id": "640ff3b0",
   "metadata": {},
   "outputs": [],
   "source": [
    "actual_inverse  = scale_target.inverse_transform(test_set[['day_power']])"
   ]
  },
  {
   "cell_type": "code",
   "execution_count": null,
   "id": "63e3724e",
   "metadata": {},
   "outputs": [],
   "source": [
    "len(forcast_inverse)"
   ]
  },
  {
   "cell_type": "code",
   "execution_count": null,
   "id": "6dd605fd",
   "metadata": {},
   "outputs": [],
   "source": [
    "len(actual_inverse)"
   ]
  },
  {
   "cell_type": "code",
   "execution_count": null,
   "id": "344bc750",
   "metadata": {},
   "outputs": [],
   "source": [
    "forcast.shape"
   ]
  },
  {
   "cell_type": "code",
   "execution_count": null,
   "id": "4dcd0bc6",
   "metadata": {},
   "outputs": [],
   "source": []
  },
  {
   "cell_type": "code",
   "execution_count": null,
   "id": "1a2ab2e0",
   "metadata": {},
   "outputs": [],
   "source": [
    "forecast_dates = []\n",
    "for time_i in forcast_period_dates:\n",
    "    forecast_dates.append(time_i.date())"
   ]
  },
  {
   "cell_type": "code",
   "execution_count": null,
   "id": "f99089cf",
   "metadata": {},
   "outputs": [],
   "source": [
    "df_forecast = pd.DataFrame({'Date':np.array(forecast_dates),\n",
    "                           'Predicted':forcast_inverse.flatten(),\n",
    "                           'Actual':actual_inverse.flatten()})\n",
    "df_forecast['Date'] = pd.to_datetime(df_forecast['Date'])"
   ]
  },
  {
   "cell_type": "code",
   "execution_count": null,
   "id": "1157dc9d",
   "metadata": {},
   "outputs": [],
   "source": [
    "df_forecast"
   ]
  },
  {
   "cell_type": "code",
   "execution_count": null,
   "id": "f84a497e",
   "metadata": {},
   "outputs": [],
   "source": [
    "import plotly.express as px \n",
    "fig = px.line(df_forecast, x='Date', y=['Actual', 'Predicted'])\n",
    "fig.show()"
   ]
  },
  {
   "cell_type": "code",
   "execution_count": null,
   "id": "ae818f21",
   "metadata": {},
   "outputs": [],
   "source": []
  }
 ],
 "metadata": {
  "kernelspec": {
   "display_name": "Python 3 (ipykernel)",
   "language": "python",
   "name": "python3"
  },
  "language_info": {
   "codemirror_mode": {
    "name": "ipython",
    "version": 3
   },
   "file_extension": ".py",
   "mimetype": "text/x-python",
   "name": "python",
   "nbconvert_exporter": "python",
   "pygments_lexer": "ipython3",
   "version": "3.9.7"
  }
 },
 "nbformat": 4,
 "nbformat_minor": 5
}
