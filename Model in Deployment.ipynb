{
 "cells": [
  {
   "cell_type": "markdown",
   "id": "20e15363",
   "metadata": {},
   "source": [
    "## Import Libraries"
   ]
  },
  {
   "cell_type": "code",
   "execution_count": 3,
   "id": "d26c86f6",
   "metadata": {},
   "outputs": [],
   "source": [
    "import tensorflow as tf\n",
    "import pandas as pd\n",
    "import numpy as np\n",
    "import seaborn as sns\n",
    "import matplotlib.pyplot as plt\n",
    "import datetime\n",
    "import warnings\n",
    "warnings.simplefilter(\"ignore\")"
   ]
  },
  {
   "cell_type": "code",
   "execution_count": 4,
   "id": "34a8a50d",
   "metadata": {},
   "outputs": [],
   "source": [
    "df = pd.read_csv('datasets/final_dataset.csv')"
   ]
  },
  {
   "cell_type": "code",
   "execution_count": 5,
   "id": "893574f0",
   "metadata": {},
   "outputs": [
    {
     "data": {
      "text/html": [
       "<div>\n",
       "<style scoped>\n",
       "    .dataframe tbody tr th:only-of-type {\n",
       "        vertical-align: middle;\n",
       "    }\n",
       "\n",
       "    .dataframe tbody tr th {\n",
       "        vertical-align: top;\n",
       "    }\n",
       "\n",
       "    .dataframe thead th {\n",
       "        text-align: right;\n",
       "    }\n",
       "</style>\n",
       "<table border=\"1\" class=\"dataframe\">\n",
       "  <thead>\n",
       "    <tr style=\"text-align: right;\">\n",
       "      <th></th>\n",
       "      <th>date</th>\n",
       "      <th>temp</th>\n",
       "      <th>weather</th>\n",
       "      <th>wind</th>\n",
       "      <th>humidity</th>\n",
       "      <th>day_power</th>\n",
       "    </tr>\n",
       "  </thead>\n",
       "  <tbody>\n",
       "    <tr>\n",
       "      <th>0</th>\n",
       "      <td>2012-01-01</td>\n",
       "      <td>12.333333</td>\n",
       "      <td>Cloudy</td>\n",
       "      <td>21.333333</td>\n",
       "      <td>89.333333</td>\n",
       "      <td>0.8</td>\n",
       "    </tr>\n",
       "    <tr>\n",
       "      <th>1</th>\n",
       "      <td>2012-01-02</td>\n",
       "      <td>7.787234</td>\n",
       "      <td>Scattered clouds</td>\n",
       "      <td>17.212766</td>\n",
       "      <td>81.425532</td>\n",
       "      <td>2.9</td>\n",
       "    </tr>\n",
       "    <tr>\n",
       "      <th>2</th>\n",
       "      <td>2012-01-03</td>\n",
       "      <td>8.208333</td>\n",
       "      <td>Fog</td>\n",
       "      <td>32.354167</td>\n",
       "      <td>78.229167</td>\n",
       "      <td>0.8</td>\n",
       "    </tr>\n",
       "    <tr>\n",
       "      <th>3</th>\n",
       "      <td>2012-01-04</td>\n",
       "      <td>7.354167</td>\n",
       "      <td>Scattered clouds</td>\n",
       "      <td>26.375000</td>\n",
       "      <td>71.041667</td>\n",
       "      <td>2.7</td>\n",
       "    </tr>\n",
       "    <tr>\n",
       "      <th>4</th>\n",
       "      <td>2012-01-05</td>\n",
       "      <td>8.292683</td>\n",
       "      <td>Scattered clouds</td>\n",
       "      <td>39.170732</td>\n",
       "      <td>77.804878</td>\n",
       "      <td>1.6</td>\n",
       "    </tr>\n",
       "  </tbody>\n",
       "</table>\n",
       "</div>"
      ],
      "text/plain": [
       "         date       temp           weather       wind   humidity  day_power\n",
       "0  2012-01-01  12.333333            Cloudy  21.333333  89.333333        0.8\n",
       "1  2012-01-02   7.787234  Scattered clouds  17.212766  81.425532        2.9\n",
       "2  2012-01-03   8.208333               Fog  32.354167  78.229167        0.8\n",
       "3  2012-01-04   7.354167  Scattered clouds  26.375000  71.041667        2.7\n",
       "4  2012-01-05   8.292683  Scattered clouds  39.170732  77.804878        1.6"
      ]
     },
     "execution_count": 5,
     "metadata": {},
     "output_type": "execute_result"
    }
   ],
   "source": [
    "df.head()"
   ]
  },
  {
   "cell_type": "code",
   "execution_count": 6,
   "id": "1d420bfe",
   "metadata": {},
   "outputs": [],
   "source": [
    "df.date = pd.to_datetime(df.date)"
   ]
  },
  {
   "cell_type": "code",
   "execution_count": 7,
   "id": "a6ba3798",
   "metadata": {},
   "outputs": [
    {
     "name": "stdout",
     "output_type": "stream",
     "text": [
      "<class 'pandas.core.frame.DataFrame'>\n",
      "RangeIndex: 2691 entries, 0 to 2690\n",
      "Data columns (total 6 columns):\n",
      " #   Column     Non-Null Count  Dtype         \n",
      "---  ------     --------------  -----         \n",
      " 0   date       2691 non-null   datetime64[ns]\n",
      " 1   temp       2686 non-null   float64       \n",
      " 2   weather    2691 non-null   object        \n",
      " 3   wind       2679 non-null   float64       \n",
      " 4   humidity   2668 non-null   float64       \n",
      " 5   day_power  2691 non-null   float64       \n",
      "dtypes: datetime64[ns](1), float64(4), object(1)\n",
      "memory usage: 126.3+ KB\n"
     ]
    }
   ],
   "source": [
    "df.info()"
   ]
  },
  {
   "cell_type": "code",
   "execution_count": 8,
   "id": "089b78cb",
   "metadata": {},
   "outputs": [
    {
     "data": {
      "text/plain": [
       "Passing clouds      974\n",
       "Scattered clouds    903\n",
       "Partly sunny        425\n",
       "Sunny               258\n",
       "Fog                 114\n",
       "Cloudy               17\n",
       "Name: weather, dtype: int64"
      ]
     },
     "execution_count": 8,
     "metadata": {},
     "output_type": "execute_result"
    }
   ],
   "source": [
    "df['weather'].value_counts()"
   ]
  },
  {
   "cell_type": "code",
   "execution_count": 9,
   "id": "d5575977",
   "metadata": {},
   "outputs": [],
   "source": [
    "df.set_index('date',inplace=True)"
   ]
  },
  {
   "cell_type": "code",
   "execution_count": 10,
   "id": "5fd4d4cb",
   "metadata": {},
   "outputs": [
    {
     "data": {
      "text/html": [
       "<div>\n",
       "<style scoped>\n",
       "    .dataframe tbody tr th:only-of-type {\n",
       "        vertical-align: middle;\n",
       "    }\n",
       "\n",
       "    .dataframe tbody tr th {\n",
       "        vertical-align: top;\n",
       "    }\n",
       "\n",
       "    .dataframe thead th {\n",
       "        text-align: right;\n",
       "    }\n",
       "</style>\n",
       "<table border=\"1\" class=\"dataframe\">\n",
       "  <thead>\n",
       "    <tr style=\"text-align: right;\">\n",
       "      <th></th>\n",
       "      <th>temp</th>\n",
       "      <th>weather</th>\n",
       "      <th>wind</th>\n",
       "      <th>humidity</th>\n",
       "      <th>day_power</th>\n",
       "    </tr>\n",
       "    <tr>\n",
       "      <th>date</th>\n",
       "      <th></th>\n",
       "      <th></th>\n",
       "      <th></th>\n",
       "      <th></th>\n",
       "      <th></th>\n",
       "    </tr>\n",
       "  </thead>\n",
       "  <tbody>\n",
       "    <tr>\n",
       "      <th>2012-01-01</th>\n",
       "      <td>12.333333</td>\n",
       "      <td>Cloudy</td>\n",
       "      <td>21.333333</td>\n",
       "      <td>89.333333</td>\n",
       "      <td>0.8</td>\n",
       "    </tr>\n",
       "    <tr>\n",
       "      <th>2012-01-02</th>\n",
       "      <td>7.787234</td>\n",
       "      <td>Scattered clouds</td>\n",
       "      <td>17.212766</td>\n",
       "      <td>81.425532</td>\n",
       "      <td>2.9</td>\n",
       "    </tr>\n",
       "    <tr>\n",
       "      <th>2012-01-03</th>\n",
       "      <td>8.208333</td>\n",
       "      <td>Fog</td>\n",
       "      <td>32.354167</td>\n",
       "      <td>78.229167</td>\n",
       "      <td>0.8</td>\n",
       "    </tr>\n",
       "    <tr>\n",
       "      <th>2012-01-04</th>\n",
       "      <td>7.354167</td>\n",
       "      <td>Scattered clouds</td>\n",
       "      <td>26.375000</td>\n",
       "      <td>71.041667</td>\n",
       "      <td>2.7</td>\n",
       "    </tr>\n",
       "    <tr>\n",
       "      <th>2012-01-05</th>\n",
       "      <td>8.292683</td>\n",
       "      <td>Scattered clouds</td>\n",
       "      <td>39.170732</td>\n",
       "      <td>77.804878</td>\n",
       "      <td>1.6</td>\n",
       "    </tr>\n",
       "  </tbody>\n",
       "</table>\n",
       "</div>"
      ],
      "text/plain": [
       "                 temp           weather       wind   humidity  day_power\n",
       "date                                                                    \n",
       "2012-01-01  12.333333            Cloudy  21.333333  89.333333        0.8\n",
       "2012-01-02   7.787234  Scattered clouds  17.212766  81.425532        2.9\n",
       "2012-01-03   8.208333               Fog  32.354167  78.229167        0.8\n",
       "2012-01-04   7.354167  Scattered clouds  26.375000  71.041667        2.7\n",
       "2012-01-05   8.292683  Scattered clouds  39.170732  77.804878        1.6"
      ]
     },
     "execution_count": 10,
     "metadata": {},
     "output_type": "execute_result"
    }
   ],
   "source": [
    "df.head()"
   ]
  },
  {
   "cell_type": "markdown",
   "id": "a7e781ec",
   "metadata": {},
   "source": [
    "## Spliting data"
   ]
  },
  {
   "cell_type": "code",
   "execution_count": 11,
   "id": "f4210c8c",
   "metadata": {},
   "outputs": [],
   "source": [
    "train = df[:'31-12-2018']\n",
    "test = df['01-01-2019':]"
   ]
  },
  {
   "cell_type": "code",
   "execution_count": 12,
   "id": "aa279380",
   "metadata": {},
   "outputs": [
    {
     "data": {
      "text/html": [
       "<div>\n",
       "<style scoped>\n",
       "    .dataframe tbody tr th:only-of-type {\n",
       "        vertical-align: middle;\n",
       "    }\n",
       "\n",
       "    .dataframe tbody tr th {\n",
       "        vertical-align: top;\n",
       "    }\n",
       "\n",
       "    .dataframe thead th {\n",
       "        text-align: right;\n",
       "    }\n",
       "</style>\n",
       "<table border=\"1\" class=\"dataframe\">\n",
       "  <thead>\n",
       "    <tr style=\"text-align: right;\">\n",
       "      <th></th>\n",
       "      <th>temp</th>\n",
       "      <th>weather</th>\n",
       "      <th>wind</th>\n",
       "      <th>humidity</th>\n",
       "    </tr>\n",
       "    <tr>\n",
       "      <th>date</th>\n",
       "      <th></th>\n",
       "      <th></th>\n",
       "      <th></th>\n",
       "      <th></th>\n",
       "    </tr>\n",
       "  </thead>\n",
       "  <tbody>\n",
       "    <tr>\n",
       "      <th>2012-01-01</th>\n",
       "      <td>12.333333</td>\n",
       "      <td>Cloudy</td>\n",
       "      <td>21.333333</td>\n",
       "      <td>89.333333</td>\n",
       "    </tr>\n",
       "    <tr>\n",
       "      <th>2012-01-02</th>\n",
       "      <td>7.787234</td>\n",
       "      <td>Scattered clouds</td>\n",
       "      <td>17.212766</td>\n",
       "      <td>81.425532</td>\n",
       "    </tr>\n",
       "    <tr>\n",
       "      <th>2012-01-03</th>\n",
       "      <td>8.208333</td>\n",
       "      <td>Fog</td>\n",
       "      <td>32.354167</td>\n",
       "      <td>78.229167</td>\n",
       "    </tr>\n",
       "    <tr>\n",
       "      <th>2012-01-04</th>\n",
       "      <td>7.354167</td>\n",
       "      <td>Scattered clouds</td>\n",
       "      <td>26.375000</td>\n",
       "      <td>71.041667</td>\n",
       "    </tr>\n",
       "    <tr>\n",
       "      <th>2012-01-05</th>\n",
       "      <td>8.292683</td>\n",
       "      <td>Scattered clouds</td>\n",
       "      <td>39.170732</td>\n",
       "      <td>77.804878</td>\n",
       "    </tr>\n",
       "  </tbody>\n",
       "</table>\n",
       "</div>"
      ],
      "text/plain": [
       "                 temp           weather       wind   humidity\n",
       "date                                                         \n",
       "2012-01-01  12.333333            Cloudy  21.333333  89.333333\n",
       "2012-01-02   7.787234  Scattered clouds  17.212766  81.425532\n",
       "2012-01-03   8.208333               Fog  32.354167  78.229167\n",
       "2012-01-04   7.354167  Scattered clouds  26.375000  71.041667\n",
       "2012-01-05   8.292683  Scattered clouds  39.170732  77.804878"
      ]
     },
     "execution_count": 12,
     "metadata": {},
     "output_type": "execute_result"
    }
   ],
   "source": [
    "features = train.drop(['day_power'], axis=1) \n",
    "columns=features.columns \n",
    "labels = train['day_power'].copy() \n",
    "features.head() "
   ]
  },
  {
   "cell_type": "code",
   "execution_count": 13,
   "id": "fe6535a9",
   "metadata": {},
   "outputs": [],
   "source": [
    "num_attr = list(features.drop(['weather'],axis=1)) \n",
    "cat_attr = ['weather'] "
   ]
  },
  {
   "cell_type": "markdown",
   "id": "4719daad",
   "metadata": {},
   "source": [
    "## Making a Pipeline to apply all transformation to the dataset"
   ]
  },
  {
   "cell_type": "code",
   "execution_count": 14,
   "id": "6941faa1",
   "metadata": {},
   "outputs": [],
   "source": [
    "from sklearn.pipeline import Pipeline \n",
    "from sklearn.compose import ColumnTransformer \n",
    "from sklearn.preprocessing import OneHotEncoder \n",
    "from sklearn.impute import SimpleImputer \n",
    "from sklearn.preprocessing import MinMaxScaler \n",
    "\n",
    "\n",
    "num_pipeline = Pipeline([ \n",
    "    ('imputer', SimpleImputer(strategy='median')), \n",
    "    ('scaler', MinMaxScaler()) \n",
    "]) \n",
    "\n",
    "cat_pipeline = Pipeline([ \n",
    "    ('encoder', OneHotEncoder()) \n",
    "]) \n",
    "\n",
    "full_pipeline = ColumnTransformer([ \n",
    "    ('num_pipeline', num_pipeline, num_attr),\n",
    "    ('cat_pipeline', cat_pipeline, cat_attr) \n",
    "]) "
   ]
  },
  {
   "cell_type": "code",
   "execution_count": 15,
   "id": "57dcf1e9",
   "metadata": {},
   "outputs": [],
   "source": [
    "prepared_features = full_pipeline.fit_transform(features) "
   ]
  },
  {
   "cell_type": "markdown",
   "id": "d70591e1",
   "metadata": {},
   "source": [
    "## Model"
   ]
  },
  {
   "cell_type": "code",
   "execution_count": 16,
   "id": "30adc9b7",
   "metadata": {},
   "outputs": [
    {
     "data": {
      "text/plain": [
       "4.483712914185638"
      ]
     },
     "metadata": {},
     "output_type": "display_data"
    },
    {
     "data": {
      "text/plain": [
       "0.62437041334718"
      ]
     },
     "execution_count": 16,
     "metadata": {},
     "output_type": "execute_result"
    }
   ],
   "source": [
    "from sklearn.linear_model import LinearRegression \n",
    "from sklearn.metrics import mean_squared_error as mse \n",
    "from sklearn.model_selection import cross_val_score  \n",
    "\n",
    "lin_reg = LinearRegression() \n",
    "lin_reg.fit(prepared_features, labels) \n",
    "y_predicted = lin_reg.predict(prepared_features) \n",
    "scores = cross_val_score(lin_reg, prepared_features, labels, \n",
    "                         scoring='neg_mean_squared_error', cv=10) \n",
    "scores=np.sqrt(-scores) \n",
    "display(scores.mean()) \n",
    "scores.std() "
   ]
  },
  {
   "cell_type": "markdown",
   "id": "2e8d009d",
   "metadata": {},
   "source": [
    "## Applying Pipeline to test data"
   ]
  },
  {
   "cell_type": "code",
   "execution_count": 17,
   "id": "8d408a34",
   "metadata": {},
   "outputs": [],
   "source": [
    "test_features = test.drop(['day_power'], axis=1) \n",
    "test_labels = test['day_power'].copy() "
   ]
  },
  {
   "cell_type": "code",
   "execution_count": 18,
   "id": "1d87e01c",
   "metadata": {},
   "outputs": [],
   "source": [
    "prepared_test = full_pipeline.transform(test_features) \n",
    "test_predicted = lin_reg.predict(prepared_test)"
   ]
  },
  {
   "cell_type": "code",
   "execution_count": 19,
   "id": "68e74376",
   "metadata": {},
   "outputs": [
    {
     "data": {
      "text/plain": [
       "5.017880921632056"
      ]
     },
     "metadata": {},
     "output_type": "display_data"
    },
    {
     "data": {
      "text/plain": [
       "0.9910831236866414"
      ]
     },
     "execution_count": 19,
     "metadata": {},
     "output_type": "execute_result"
    }
   ],
   "source": [
    "scores = cross_val_score(lin_reg, prepared_test, test_labels, \n",
    "                         scoring='neg_mean_squared_error', cv=10) \n",
    "scores=np.sqrt(-scores) \n",
    "display(scores.mean()) \n",
    "scores.std() "
   ]
  },
  {
   "cell_type": "markdown",
   "id": "e37d51e0",
   "metadata": {},
   "source": [
    "## Plotting Predictions"
   ]
  },
  {
   "cell_type": "code",
   "execution_count": 20,
   "id": "c96e47b6",
   "metadata": {},
   "outputs": [
    {
     "data": {
      "image/png": "[encoded data removed]",
      "text/plain": [
       "<Figure size 1152x432 with 1 Axes>"
      ]
     },
     "metadata": {
      "needs_background": "light"
     },
     "output_type": "display_data"
    }
   ],
   "source": [
    "plt.figure(figsize=(16,6))\n",
    "plt.plot(range(len(test_labels)), test_labels)\n",
    "plt.plot(range(len(test_predicted)), test_predicted, 'r')\n",
    "plt.title('Comparison between predicted values and real ones in the test set')\n",
    "plt.ylabel('Day Power')\n",
    "plt.xlabel('Average Of Test Samples')\n",
    "plt.legend(['Real Power', 'Predicted Power'])\n",
    "plt.show()"
   ]
  },
  {
   "cell_type": "code",
   "execution_count": 21,
   "id": "ce726b83",
   "metadata": {},
   "outputs": [
    {
     "data": {
      "text/plain": [
       "3.653024043038139"
      ]
     },
     "execution_count": 21,
     "metadata": {},
     "output_type": "execute_result"
    }
   ],
   "source": [
    "from sklearn.metrics import mean_squared_error, mean_absolute_error\n",
    "mean_absolute_error(test_labels,test_predicted)"
   ]
  },
  {
   "cell_type": "code",
   "execution_count": 22,
   "id": "dd3a8e84",
   "metadata": {},
   "outputs": [
    {
     "data": {
      "text/plain": [
       "23.449539585085315"
      ]
     },
     "execution_count": 22,
     "metadata": {},
     "output_type": "execute_result"
    }
   ],
   "source": [
    "mean_squared_error(test_labels,test_predicted)"
   ]
  },
  {
   "cell_type": "code",
   "execution_count": null,
   "id": "1d1910b7",
   "metadata": {},
   "outputs": [],
   "source": []
  },
  {
   "cell_type": "markdown",
   "id": "a258726c",
   "metadata": {},
   "source": [
    "## Saving two files of Preprocessing and model"
   ]
  },
  {
   "cell_type": "code",
   "execution_count": 23,
   "id": "1a98a08f",
   "metadata": {},
   "outputs": [],
   "source": [
    "import pickle\n",
    "pickle.dump(full_pipeline, open('Models/preprocessing.pkl', 'wb'))"
   ]
  },
  {
   "cell_type": "code",
   "execution_count": 24,
   "id": "4373d1fd",
   "metadata": {},
   "outputs": [],
   "source": [
    "pickle.dump(lin_reg, open('Models/model.pkl', 'wb'))"
   ]
  },
  {
   "cell_type": "code",
   "execution_count": null,
   "id": "63cc00a2",
   "metadata": {},
   "outputs": [],
   "source": []
  },
  {
   "cell_type": "code",
   "execution_count": 25,
   "id": "65d17cef",
   "metadata": {},
   "outputs": [
    {
     "data": {
      "text/html": [
       "<div>\n",
       "<style scoped>\n",
       "    .dataframe tbody tr th:only-of-type {\n",
       "        vertical-align: middle;\n",
       "    }\n",
       "\n",
       "    .dataframe tbody tr th {\n",
       "        vertical-align: top;\n",
       "    }\n",
       "\n",
       "    .dataframe thead th {\n",
       "        text-align: right;\n",
       "    }\n",
       "</style>\n",
       "<table border=\"1\" class=\"dataframe\">\n",
       "  <thead>\n",
       "    <tr style=\"text-align: right;\">\n",
       "      <th></th>\n",
       "      <th>temp</th>\n",
       "      <th>weather</th>\n",
       "      <th>wind</th>\n",
       "      <th>humidity</th>\n",
       "    </tr>\n",
       "    <tr>\n",
       "      <th>date</th>\n",
       "      <th></th>\n",
       "      <th></th>\n",
       "      <th></th>\n",
       "      <th></th>\n",
       "    </tr>\n",
       "  </thead>\n",
       "  <tbody>\n",
       "    <tr>\n",
       "      <th>2019-01-01</th>\n",
       "      <td>7.750000</td>\n",
       "      <td>Scattered clouds</td>\n",
       "      <td>17.958333</td>\n",
       "      <td>83.229167</td>\n",
       "    </tr>\n",
       "    <tr>\n",
       "      <th>2019-01-02</th>\n",
       "      <td>6.022222</td>\n",
       "      <td>Passing clouds</td>\n",
       "      <td>13.244444</td>\n",
       "      <td>69.222222</td>\n",
       "    </tr>\n",
       "    <tr>\n",
       "      <th>2019-01-03</th>\n",
       "      <td>5.125000</td>\n",
       "      <td>Partly sunny</td>\n",
       "      <td>8.458333</td>\n",
       "      <td>82.104167</td>\n",
       "    </tr>\n",
       "    <tr>\n",
       "      <th>2019-01-04</th>\n",
       "      <td>4.729167</td>\n",
       "      <td>Partly sunny</td>\n",
       "      <td>11.687500</td>\n",
       "      <td>85.312500</td>\n",
       "    </tr>\n",
       "    <tr>\n",
       "      <th>2019-01-05</th>\n",
       "      <td>6.425532</td>\n",
       "      <td>Scattered clouds</td>\n",
       "      <td>16.680851</td>\n",
       "      <td>93.297872</td>\n",
       "    </tr>\n",
       "  </tbody>\n",
       "</table>\n",
       "</div>"
      ],
      "text/plain": [
       "                temp           weather       wind   humidity\n",
       "date                                                        \n",
       "2019-01-01  7.750000  Scattered clouds  17.958333  83.229167\n",
       "2019-01-02  6.022222    Passing clouds  13.244444  69.222222\n",
       "2019-01-03  5.125000      Partly sunny   8.458333  82.104167\n",
       "2019-01-04  4.729167      Partly sunny  11.687500  85.312500\n",
       "2019-01-05  6.425532  Scattered clouds  16.680851  93.297872"
      ]
     },
     "execution_count": 25,
     "metadata": {},
     "output_type": "execute_result"
    }
   ],
   "source": [
    "test_features.head()"
   ]
  },
  {
   "cell_type": "markdown",
   "id": "78ed543f",
   "metadata": {},
   "source": [
    "## Loading two models"
   ]
  },
  {
   "cell_type": "code",
   "execution_count": 26,
   "id": "2d03e41d",
   "metadata": {},
   "outputs": [],
   "source": [
    "preprocessing_pipeline = pickle.load(open('Models/preprocessing.pkl', 'rb'))"
   ]
  },
  {
   "cell_type": "code",
   "execution_count": 27,
   "id": "171de4c5",
   "metadata": {},
   "outputs": [],
   "source": [
    "pickled_model = pickle.load(open('Models/model.pkl', 'rb'))"
   ]
  },
  {
   "cell_type": "code",
   "execution_count": 28,
   "id": "d24d6d40",
   "metadata": {},
   "outputs": [],
   "source": [
    "prepared_api = preprocessing_pipeline.transform(test_features)"
   ]
  },
  {
   "cell_type": "code",
   "execution_count": 29,
   "id": "f9e8748e",
   "metadata": {},
   "outputs": [],
   "source": [
    "predicted_pickle = pickled_model.predict(prepared_api)"
   ]
  },
  {
   "cell_type": "code",
   "execution_count": null,
   "id": "3491c75e",
   "metadata": {},
   "outputs": [],
   "source": []
  },
  {
   "cell_type": "code",
   "execution_count": 30,
   "id": "64e90a2e",
   "metadata": {},
   "outputs": [
    {
     "data": {
      "text/plain": [
       "array([0.48056619, 0.40946642, 0.75422265, 0.        , 0.        ,\n",
       "       0.        , 0.        , 1.        , 0.        ])"
      ]
     },
     "execution_count": 30,
     "metadata": {},
     "output_type": "execute_result"
    }
   ],
   "source": [
    "prepared_api[0]"
   ]
  },
  {
   "cell_type": "code",
   "execution_count": null,
   "id": "af80779f",
   "metadata": {},
   "outputs": [],
   "source": []
  }
 ],
 "metadata": {
  "kernelspec": {
   "display_name": "Python 3 (ipykernel)",
   "language": "python",
   "name": "python3"
  },
  "language_info": {
   "codemirror_mode": {
    "name": "ipython",
    "version": 3
   },
   "file_extension": ".py",
   "mimetype": "text/x-python",
   "name": "python",
   "nbconvert_exporter": "python",
   "pygments_lexer": "ipython3",
   "version": "3.9.7"
  }
 },
 "nbformat": 4,
 "nbformat_minor": 5
}
